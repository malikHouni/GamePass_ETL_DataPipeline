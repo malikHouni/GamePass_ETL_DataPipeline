{
 "cells": [
  {
   "cell_type": "markdown",
   "id": "a2d07c73",
   "metadata": {},
   "source": [
    "#### usefull source:\n",
    "https://www.geeksforgeeks.org/python-removing-unwanted-characters-from-string/"
   ]
  },
  {
   "cell_type": "code",
   "execution_count": 1,
   "id": "e6872629",
   "metadata": {},
   "outputs": [],
   "source": [
    "import os\n",
    "import pandas as pd\n",
    "import numpy as np"
   ]
  },
  {
   "cell_type": "markdown",
   "id": "f4506b83",
   "metadata": {},
   "source": [
    "# Extract data from gamePass"
   ]
  },
  {
   "cell_type": "code",
   "execution_count": 2,
   "id": "fcaaf4af",
   "metadata": {},
   "outputs": [
    {
     "name": "stdout",
     "output_type": "stream",
     "text": [
      "./Game-Pass-API/ exists.\n"
     ]
    }
   ],
   "source": [
    "dir_path = \"./Game-Pass-API/\"\n",
    "if os.path.isdir(dir_path):\n",
    "    print(f\"{dir_path} exists.\")\n",
    "else:\n",
    "    print(f\"{dir_path} does not exist.\")\n",
    "    #creation of dir:\n",
    "    os.system('git clone https://github.com/NikkelM/Game-Pass-API.git')"
   ]
  },
  {
   "cell_type": "code",
   "execution_count": 3,
   "id": "c9a8b1e5",
   "metadata": {},
   "outputs": [],
   "source": [
    "os.chdir(\"./Game-Pass-API/\")#we change current path so let's not forget to come back to the root of the project\n",
    "os.system(\"npm install\")\n",
    "os.chdir(\"..\")"
   ]
  },
  {
   "cell_type": "code",
   "execution_count": 4,
   "id": "6e25a182",
   "metadata": {},
   "outputs": [
    {
     "data": {
      "text/plain": [
       "1"
      ]
     },
     "execution_count": 4,
     "metadata": {},
     "output_type": "execute_result"
    }
   ],
   "source": [
    "os.system('node Game-Pass-API/index.js')"
   ]
  },
  {
   "cell_type": "code",
   "execution_count": 5,
   "id": "4b2043a9",
   "metadata": {
    "scrolled": true
   },
   "outputs": [
    {
     "data": {
      "text/html": [
       "<div>\n",
       "<style scoped>\n",
       "    .dataframe tbody tr th:only-of-type {\n",
       "        vertical-align: middle;\n",
       "    }\n",
       "\n",
       "    .dataframe tbody tr th {\n",
       "        vertical-align: top;\n",
       "    }\n",
       "\n",
       "    .dataframe thead th {\n",
       "        text-align: right;\n",
       "    }\n",
       "</style>\n",
       "<table border=\"1\" class=\"dataframe\">\n",
       "  <thead>\n",
       "    <tr style=\"text-align: right;\">\n",
       "      <th></th>\n",
       "      <th>productTitle</th>\n",
       "    </tr>\n",
       "  </thead>\n",
       "  <tbody>\n",
       "    <tr>\n",
       "      <th>0</th>\n",
       "      <td>7 Days to Die</td>\n",
       "    </tr>\n",
       "    <tr>\n",
       "      <th>1</th>\n",
       "      <td>A Little to the Left</td>\n",
       "    </tr>\n",
       "    <tr>\n",
       "      <th>2</th>\n",
       "      <td>A Plague Tale: Requiem</td>\n",
       "    </tr>\n",
       "    <tr>\n",
       "      <th>3</th>\n",
       "      <td>A Short Hike</td>\n",
       "    </tr>\n",
       "    <tr>\n",
       "      <th>4</th>\n",
       "      <td>A Way Out</td>\n",
       "    </tr>\n",
       "    <tr>\n",
       "      <th>...</th>\n",
       "      <td>...</td>\n",
       "    </tr>\n",
       "    <tr>\n",
       "      <th>500</th>\n",
       "      <td>You Suck at Parking® Complete Edition</td>\n",
       "    </tr>\n",
       "    <tr>\n",
       "      <th>501</th>\n",
       "      <td>Zombie Army 4: Dead War</td>\n",
       "    </tr>\n",
       "    <tr>\n",
       "      <th>502</th>\n",
       "      <td>Zoo Tycoon: Ultimate Animal Collection</td>\n",
       "    </tr>\n",
       "    <tr>\n",
       "      <th>503</th>\n",
       "      <td>Zuma</td>\n",
       "    </tr>\n",
       "    <tr>\n",
       "      <th>504</th>\n",
       "      <td>Zuma's Revenge!</td>\n",
       "    </tr>\n",
       "  </tbody>\n",
       "</table>\n",
       "<p>505 rows × 1 columns</p>\n",
       "</div>"
      ],
      "text/plain": [
       "                               productTitle\n",
       "0                             7 Days to Die\n",
       "1                      A Little to the Left\n",
       "2                    A Plague Tale: Requiem\n",
       "3                              A Short Hike\n",
       "4                                 A Way Out\n",
       "..                                      ...\n",
       "500   You Suck at Parking® Complete Edition\n",
       "501                 Zombie Army 4: Dead War\n",
       "502  Zoo Tycoon: Ultimate Animal Collection\n",
       "503                                    Zuma\n",
       "504                         Zuma's Revenge!\n",
       "\n",
       "[505 rows x 1 columns]"
      ]
     },
     "execution_count": 5,
     "metadata": {},
     "output_type": "execute_result"
    }
   ],
   "source": [
    "gamepass_games=pd.read_json(\"Game-Pass-API/output/formattedGameProperties_console_US.json\")\n",
    "gamepass_games"
   ]
  },
  {
   "cell_type": "markdown",
   "id": "5362aa73",
   "metadata": {},
   "source": [
    "# transformation: need to lowercase and remove special characters"
   ]
  },
  {
   "cell_type": "code",
   "execution_count": 6,
   "id": "2b32971b",
   "metadata": {},
   "outputs": [],
   "source": [
    "gamepass_games[\"productTitle\"][25]=\"Banjo-Kazooie: Nuts & Bolts\""
   ]
  },
  {
   "cell_type": "code",
   "execution_count": 7,
   "id": "a88a97fe",
   "metadata": {},
   "outputs": [
    {
     "data": {
      "text/plain": [
       "'Banjo-Kazooie: Nuts & Bolts'"
      ]
     },
     "execution_count": 7,
     "metadata": {},
     "output_type": "execute_result"
    }
   ],
   "source": [
    "gamepass_games[\"productTitle\"][25]"
   ]
  },
  {
   "cell_type": "code",
   "execution_count": 8,
   "id": "68c38438",
   "metadata": {},
   "outputs": [],
   "source": [
    "import unidecode\n",
    "\n",
    "list_transformed_title=[]\n",
    "# initializing bad_chars_list\n",
    "# r copyright -> spe@#$ci87al*& ou ®\n",
    "bad_chars = ['.',';', ':', '!','\\'', \"*\", \"®\",\"™\"]\n",
    "# using replace() to\n",
    "# remove bad_chars\n",
    "\n",
    "for title in gamepass_games['productTitle']:\n",
    "    title=title.replace(\" for Xbox\",\"\").replace(\" - Xbox One Edition\",\"\").replace(\" - Xbox Series X|S\",\"\").replace(\" for Xbox One\",\"\").replace(\" Preview\",\"\").replace(\" (Game Preview)\",\"\").replace(\" (Game Preview)\",\"\").replace(\" Standard Edition\",\"\").replace(\" Console\",\"\").replace(\" (Xbox One)\",\"\").replace(\" Xbox Series X|S\",\"\").replace(\" Xbox One\",\"\")\n",
    "    title=title.replace(\" - \",\"-\").replace(\": \",\"-\").replace(\"&\",\"and\").replace(\" \",\"-\")\n",
    "    title = ''.join((filter(lambda i: i not in bad_chars, title)))\n",
    "    title=title.lower()\n",
    "    list_transformed_title.append(unidecode.unidecode(title))\n",
    "    "
   ]
  },
  {
   "cell_type": "code",
   "execution_count": 9,
   "id": "48d9c9c3",
   "metadata": {},
   "outputs": [],
   "source": [
    "gamepass_games[\"tr_productTitle\"]=pd.DataFrame(list_transformed_title)"
   ]
  },
  {
   "cell_type": "markdown",
   "id": "f3fdafc4",
   "metadata": {},
   "source": [
    "# Extract data from Metacritic"
   ]
  },
  {
   "cell_type": "code",
   "execution_count": 12,
   "id": "7348487d",
   "metadata": {},
   "outputs": [],
   "source": [
    "from bs4 import BeautifulSoup\n",
    "import requests, random\n",
    "\n",
    "\n",
    "AGENTS = ('Mozilla/5.0 (Macintosh; Intel Mac OS X 12_6) AppleWebKit/537.36 (KHTML, like Gecko) Chrome/106.0.0.0 Safari/537.36',\n",
    "          'Mozilla/5.0 (Windows NT 10.0; Win64; x64) AppleWebKit/537.36 (KHTML, like Gecko) Chrome/106.0.0.0 Safari/537.36',\n",
    "          'Mozilla/5.0 (X11; Linux x86_64) AppleWebKit/537.36 (KHTML, like Gecko) Chrome/106.0.0.0 Safari/537.36')\n",
    "\n",
    "#create headers\n",
    "HEADERS               = requests.utils.default_headers()\n",
    "HEADERS['User-Agent'] = random.choice(AGENTS)"
   ]
  },
  {
   "cell_type": "markdown",
   "id": "6bf47d40",
   "metadata": {},
   "source": [
    "### 1st passage to get all url with problems to correct"
   ]
  },
  {
   "cell_type": "code",
   "execution_count": 14,
   "id": "b710cf22",
   "metadata": {
    "scrolled": true
   },
   "outputs": [],
   "source": [
    "list_Of_Score=[]\n",
    "list_Of_NotGood=[]#list of url not well formated for metacritic,needed to be reworked\n",
    "it=0\n",
    "for tr_title in gamepass_games[\"tr_productTitle\"]:\n",
    "    it+=1\n",
    "    url = \"https://www.metacritic.com/game/\"+tr_title+\"/\"\n",
    "    #print(url,it-1)\n",
    "    page = requests.get(url, headers=HEADERS)\n",
    "    soup = BeautifulSoup(page.content, 'html.parser')\n",
    "    score_text = soup.find(\"span\", {\"class\": \"c-productScoreInfo_scoreSentiment\"})\n",
    "    if score_text is None:\n",
    "        #print(\"not good\")\n",
    "        list_Of_NotGood.append(it-1)\n",
    "        list_Of_Score.append(\"unknown\")\n",
    "    else:\n",
    "        list_Of_Score.append(score_text.get_text().replace(\"\\n \",\"\").replace(\"\\n\",\"\"))\n",
    "gamepass_games[\"metascore\"]=pd.DataFrame(list_Of_Score)"
   ]
  },
  {
   "cell_type": "code",
   "execution_count": 15,
   "id": "7450fb20",
   "metadata": {},
   "outputs": [
    {
     "data": {
      "text/html": [
       "<div>\n",
       "<style scoped>\n",
       "    .dataframe tbody tr th:only-of-type {\n",
       "        vertical-align: middle;\n",
       "    }\n",
       "\n",
       "    .dataframe tbody tr th {\n",
       "        vertical-align: top;\n",
       "    }\n",
       "\n",
       "    .dataframe thead th {\n",
       "        text-align: right;\n",
       "    }\n",
       "</style>\n",
       "<table border=\"1\" class=\"dataframe\">\n",
       "  <thead>\n",
       "    <tr style=\"text-align: right;\">\n",
       "      <th></th>\n",
       "      <th>productTitle</th>\n",
       "      <th>tr_productTitle</th>\n",
       "      <th>metascore</th>\n",
       "    </tr>\n",
       "  </thead>\n",
       "  <tbody>\n",
       "    <tr>\n",
       "      <th>0</th>\n",
       "      <td>7 Days to Die</td>\n",
       "      <td>7-days-to-die</td>\n",
       "      <td>Generally Unfavorable</td>\n",
       "    </tr>\n",
       "    <tr>\n",
       "      <th>1</th>\n",
       "      <td>A Little to the Left</td>\n",
       "      <td>a-little-to-the-left</td>\n",
       "      <td>Generally Favorable</td>\n",
       "    </tr>\n",
       "    <tr>\n",
       "      <th>2</th>\n",
       "      <td>A Plague Tale: Requiem</td>\n",
       "      <td>a-plague-tale-requiem</td>\n",
       "      <td>Generally Favorable</td>\n",
       "    </tr>\n",
       "  </tbody>\n",
       "</table>\n",
       "</div>"
      ],
      "text/plain": [
       "             productTitle        tr_productTitle  \\\n",
       "0           7 Days to Die          7-days-to-die   \n",
       "1    A Little to the Left   a-little-to-the-left   \n",
       "2  A Plague Tale: Requiem  a-plague-tale-requiem   \n",
       "\n",
       "                           metascore  \n",
       "0         Generally Unfavorable       \n",
       "1           Generally Favorable       \n",
       "2           Generally Favorable       "
      ]
     },
     "execution_count": 15,
     "metadata": {},
     "output_type": "execute_result"
    }
   ],
   "source": [
    "gamepass_games.head(3)"
   ]
  },
  {
   "cell_type": "code",
   "execution_count": 16,
   "id": "69d5d4e7",
   "metadata": {},
   "outputs": [
    {
     "data": {
      "text/plain": [
       "443"
      ]
     },
     "execution_count": 16,
     "metadata": {},
     "output_type": "execute_result"
    }
   ],
   "source": [
    "gamepass_games[\"metascore\"][gamepass_games[\"metascore\"]!=\"not good\"].count()"
   ]
  },
  {
   "cell_type": "code",
   "execution_count": 17,
   "id": "021a8b7e",
   "metadata": {},
   "outputs": [
    {
     "data": {
      "text/plain": [
       "62"
      ]
     },
     "execution_count": 17,
     "metadata": {},
     "output_type": "execute_result"
    }
   ],
   "source": [
    "gamepass_games[\"metascore\"][gamepass_games[\"metascore\"]==\"not good\"].count()"
   ]
  },
  {
   "cell_type": "markdown",
   "id": "87ab7df0",
   "metadata": {},
   "source": []
  }
 ],
 "metadata": {
  "kernelspec": {
   "display_name": "Python 3 (ipykernel)",
   "language": "python",
   "name": "python3"
  },
  "language_info": {
   "codemirror_mode": {
    "name": "ipython",
    "version": 3
   },
   "file_extension": ".py",
   "mimetype": "text/x-python",
   "name": "python",
   "nbconvert_exporter": "python",
   "pygments_lexer": "ipython3",
   "version": "3.11.0"
  }
 },
 "nbformat": 4,
 "nbformat_minor": 5
}
